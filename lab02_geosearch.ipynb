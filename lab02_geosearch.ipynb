{
  "cells": [
    {
      "cell_type": "code",
      "execution_count": 1,
      "metadata": {
        "id": "EtnaSlH-wplB"
      },
      "outputs": [],
      "source": [
        "# created on Dec 24, 2020\n",
        "# modified on April 12, 2022\n",
        "# @author:          Bo Zhao\n",
        "# @email:           zhaobo@uw.edu\n",
        "# @website:         https://hgis.uw.edu\n",
        "# @organization:    Department of Geography, University of Washington, Seattle\n",
        "# @description:     Search geo-tagged tweets within the U.S. This script is modified from https://github.com/shawn-terryah/Twitter_Geolocation"
      ]
    },
    {
      "cell_type": "code",
      "execution_count": 2,
      "metadata": {
        "colab": {
          "base_uri": "https://localhost:8080/"
        },
        "id": "f-bMdKMawxnQ",
        "outputId": "f0283685-18af-4232-842b-92c059d4ae24"
      },
      "outputs": [
        {
          "name": "stdout",
          "output_type": "stream",
          "text": [
            "Mounted at /gdrive\n"
          ]
        }
      ],
      "source": [
        "import tweepy, json, time\n",
        "import pandas as pd\n",
        "from google.colab import files\n",
        "# Create data on to Google Drive\n",
        "from google.colab import drive\n",
        "# Mount your Drive to the Colab VM.\n",
        "drive.mount('/gdrive')"
      ]
    },
    {
      "cell_type": "code",
      "execution_count": 3,
      "metadata": {
        "id": "dEyPts-ZwplE"
      },
      "outputs": [],
      "source": [
        "class StreamListener(tweepy.StreamListener):\n",
        "    \"\"\"tweepy.StreamListener is a class provided by tweepy used to access\n",
        "    the Twitter Streaming API to collect tweets in real-time.\n",
        "    \"\"\"\n",
        "\n",
        "    def __init__(self, time_limit=60, file=\"\"):\n",
        "        \"\"\"class initialization\"\"\"\n",
        "        self.start_time = time.time()\n",
        "        self.limit = time_limit\n",
        "        self.result = []\n",
        "        self.f = file\n",
        "        super(StreamListener, self).__init__()\n",
        "\n",
        "    def on_data(self, data):\n",
        "        \"\"\"This is called when data are streamed in.\"\"\"\n",
        "        if (time.time() - self.start_time) < self.limit:\n",
        "            datajson = json.loads(data)\n",
        "            # print(datajson, \"\\n\")\n",
        "            if 'id' not in datajson.keys():\n",
        "                time.sleep(10)\n",
        "            else:\n",
        "                id = datajson['id']\n",
        "                username = datajson['user']['screen_name']\n",
        "                created_at = datajson['created_at']\n",
        "                text = datajson['text'].strip().replace(\"\\n\", \"\")\n",
        "\n",
        "                # process the geo-tags\n",
        "                if datajson['coordinates'] == None:\n",
        "                    try:\n",
        "                        bbox = datajson['place']['bounding_box']['coordinates'][0]\n",
        "                        lng = (bbox[0][0] + bbox[2][0]) / 2.0\n",
        "                        lat = (bbox[0][1] + bbox[1][1]) / 2.0\n",
        "                    except:\n",
        "                        lat = 0\n",
        "                        lng = 0\n",
        "                else:\n",
        "                    lng = datajson['coordinates']['coordinates'][0]\n",
        "                    lat = datajson['coordinates']['coordinates'][1]\n",
        "\n",
        "                if lat != 0:\n",
        "                    row = {\n",
        "                        'id': id,\n",
        "                        'username': username,\n",
        "                        'created_at': created_at,\n",
        "                        'lng': lng,\n",
        "                        'lat': lat,\n",
        "                        'text': text\n",
        "                    }\n",
        "                    print(row)\n",
        "                    self.result.append(row)\n",
        "                else:\n",
        "                    pass\n",
        "        else:\n",
        "            df = pd.DataFrame(self.result)\n",
        "            df.to_csv(self.f, index=False)\n",
        "            # download the csv to your local computer\n",
        "            files.download(self.f)\n",
        "            print(\"the csv has been downloaded to your local computer. The program has been completed successfully.\")\n",
        "            return False"
      ]
    },
    {
      "cell_type": "code",
      "execution_count": 4,
      "metadata": {
        "colab": {
          "base_uri": "https://localhost:8080/",
          "height": 251
        },
        "id": "5Xzyo_OiwplG",
        "outputId": "79ac3d09-8041-4c6d-b9fb-ffe475e52c31"
      },
      "outputs": [
        {
          "name": "stdout",
          "output_type": "stream",
          "text": [
            "{'id': 1533659197899829249, 'username': 'hooperstarium', 'created_at': 'Mon Jun 06 03:57:01 +0000 2022', 'lng': -115.223125, 'lat': 36.232915, 'text': 'Looney tunes \"pitch perfect\" as Poole &amp; the @warriors silence the @celtics 107-88 in #NBAFinals Game 2. https://t.co/M5FHdSjb6H'}\n",
            "{'id': 1533659209920675841, 'username': 'ThisKidB', 'created_at': 'Mon Jun 06 03:57:04 +0000 2022', 'lng': -122.2286855, 'lat': 37.791994, 'text': 'Hahahaha you stuck in purgatory.. he do make the offense look disjointed though'}\n",
            "{'id': 1533659232033067009, 'username': 'sashadigiulian', 'created_at': 'Mon Jun 06 03:57:09 +0000 2022', 'lng': -105.5508905, 'lat': 38.997935999999996, 'text': 'Celtics maybe should have eaten a PERFORM bar. But there’s always RECOVER now… https://t.co/BN1WRavCDj 🍋 🍒 🥜 #NBAFinals'}\n",
            "{'id': 1533659772431413248, 'username': 'CEOofYEEZUS', 'created_at': 'Mon Jun 06 03:59:18 +0000 2022', 'lng': -122.529191, 'lat': 45.432278499999995, 'text': 'I need this tee🔥🔥'}\n",
            "{'id': 1533659800118206464, 'username': 'allvarado12', 'created_at': 'Mon Jun 06 03:59:25 +0000 2022', 'lng': -100.29359149999999, 'lat': 25.6417185, 'text': '@OliiverJaviier A la verga Celtics, la pandilla, y el portero de MDM.'}\n",
            "{'id': 1533660027398914049, 'username': 'ledfordx_x', 'created_at': 'Mon Jun 06 04:00:19 +0000 2022', 'lng': -117.6737715, 'lat': 35.619701500000005, 'text': 'Damn! I took a nap and just woke up. I missed the #Warriors #Celtics game.'}\n",
            "{'id': 1533660321436602369, 'username': 'djsoap92', 'created_at': 'Mon Jun 06 04:01:29 +0000 2022', 'lng': -84.31507049999999, 'lat': 33.8745435, 'text': 'Honestly Draymond was right. The celtics got 16 from three guys who gave 65 in game one. Should be interesting for… https://t.co/ryyIn2dG3u'}\n",
            "{'id': 1533660480446681088, 'username': 'coug88', 'created_at': 'Mon Jun 06 04:02:07 +0000 2022', 'lng': -122.4359785, 'lat': 37.7706565, 'text': \"My #Celtics brothers and sisters tonight's game 2 was rough.  That 3rd quarter was ugly but I have zero regrets abo… https://t.co/e5ULhv3dF0\"}\n",
            "{'id': 1533661208305635328, 'username': 'AdolphMark', 'created_at': 'Mon Jun 06 04:05:00 +0000 2022', 'lng': 123.942861, 'lat': 10.355342499999999, 'text': 'Dray need to mention KD 😭😭😭'}\n",
            "{'id': 1533661476086497280, 'username': 'SavageNtheBox', 'created_at': 'Mon Jun 06 04:06:04 +0000 2022', 'lng': -73.9685415, 'lat': 40.780709, 'text': '@taylorcsnow @jaytatum0 @celtics https://t.co/S6fZxg1fW9'}\n"
          ]
        },
        {
          "data": {
            "application/javascript": "\n    async function download(id, filename, size) {\n      if (!google.colab.kernel.accessAllowed) {\n        return;\n      }\n      const div = document.createElement('div');\n      const label = document.createElement('label');\n      label.textContent = `Downloading \"${filename}\": `;\n      div.appendChild(label);\n      const progress = document.createElement('progress');\n      progress.max = size;\n      div.appendChild(progress);\n      document.body.appendChild(div);\n\n      const buffers = [];\n      let downloaded = 0;\n\n      const channel = await google.colab.kernel.comms.open(id);\n      // Send a message to notify the kernel that we're ready.\n      channel.send({})\n\n      for await (const message of channel.messages) {\n        // Send a message to notify the kernel that we're ready.\n        channel.send({})\n        if (message.buffers) {\n          for (const buffer of message.buffers) {\n            buffers.push(buffer);\n            downloaded += buffer.byteLength;\n            progress.value = downloaded;\n          }\n        }\n      }\n      const blob = new Blob(buffers, {type: 'application/binary'});\n      const a = document.createElement('a');\n      a.href = window.URL.createObjectURL(blob);\n      a.download = filename;\n      div.appendChild(a);\n      a.click();\n      div.remove();\n    }\n  ",
            "text/plain": [
              "<IPython.core.display.Javascript object>"
            ]
          },
          "metadata": {},
          "output_type": "display_data"
        },
        {
          "data": {
            "application/javascript": "download(\"download_4cc52864-d454-41d2-86d0-15b4faa9f3ea\", \"geotweets.csv\", 1836)",
            "text/plain": [
              "<IPython.core.display.Javascript object>"
            ]
          },
          "metadata": {},
          "output_type": "display_data"
        },
        {
          "name": "stdout",
          "output_type": "stream",
          "text": [
            "the csv has been downloaded to your local computer. The program has been completed successfully.\n"
          ]
        },
        {
          "data": {
            "application/javascript": "\n    async function download(id, filename, size) {\n      if (!google.colab.kernel.accessAllowed) {\n        return;\n      }\n      const div = document.createElement('div');\n      const label = document.createElement('label');\n      label.textContent = `Downloading \"${filename}\": `;\n      div.appendChild(label);\n      const progress = document.createElement('progress');\n      progress.max = size;\n      div.appendChild(progress);\n      document.body.appendChild(div);\n\n      const buffers = [];\n      let downloaded = 0;\n\n      const channel = await google.colab.kernel.comms.open(id);\n      // Send a message to notify the kernel that we're ready.\n      channel.send({})\n\n      for await (const message of channel.messages) {\n        // Send a message to notify the kernel that we're ready.\n        channel.send({})\n        if (message.buffers) {\n          for (const buffer of message.buffers) {\n            buffers.push(buffer);\n            downloaded += buffer.byteLength;\n            progress.value = downloaded;\n          }\n        }\n      }\n      const blob = new Blob(buffers, {type: 'application/binary'});\n      const a = document.createElement('a');\n      a.href = window.URL.createObjectURL(blob);\n      a.download = filename;\n      div.appendChild(a);\n      a.click();\n      div.remove();\n    }\n  ",
            "text/plain": [
              "<IPython.core.display.Javascript object>"
            ]
          },
          "metadata": {},
          "output_type": "display_data"
        },
        {
          "data": {
            "application/javascript": "download(\"download_e81a558b-f646-4602-b5bd-1a3e0d7c56d6\", \"geotweets.csv\", 1836)",
            "text/plain": [
              "<IPython.core.display.Javascript object>"
            ]
          },
          "metadata": {},
          "output_type": "display_data"
        },
        {
          "name": "stdout",
          "output_type": "stream",
          "text": [
            "the csv has been downloaded to your local computer. The program has been completed successfully.\n"
          ]
        }
      ],
      "source": [
        "if __name__ == \"__main__\":\n",
        "    # These are provided to you through the Twitter API after you create a account\n",
        "    # register a Twitter App to get the keys and access tokens.\n",
        "    output_file = '/gdrive/My Drive/geotweets.csv'\n",
        "\n",
        "    # Apply for your own Twitter API keys at https://developer.twitter.com/en/apply-for-access\n",
        "    consumer_key = \"consumer_key\"\n",
        "    consumer_secret = \"consumer_secret\"\n",
        "    access_token = \"access_token\"\n",
        "    access_token_secret = \"access_token_secret\"\n",
        "\n",
        "    myauth = tweepy.OAuthHandler(consumer_key, consumer_secret)\n",
        "    myauth.set_access_token(access_token, access_token_secret)\n",
        "\n",
        "    # LOCATIONS are the longitude, latitude coordinate corners for a box that restricts the\n",
        "    # geographic area from which you will stream tweets. The first two define the southwest\n",
        "    # corner of the box and the second two define the northeast corner of the box.\n",
        "    LOCATIONS = [-124.7771694, 24.520833, -66.947028, 49.384472,  # Contiguous US (location #1)\n",
        "                 -164.639405, 58.806859, -144.152365, 71.76871,  # Alaska (^)\n",
        "                 -160.161542, 18.776344, -154.641396, 22.878623]  # Hawaii (^)\n",
        "                 #-12.068606, 49.744176, 2.555234, 58.764420] # United Kingdom and Ireland (location #2)\n",
        "\n",
        "\n",
        "    stream_listener = StreamListener(time_limit=600, file=output_file)\n",
        "    stream = tweepy.Stream(auth=myauth, listener=stream_listener)\n",
        "    stream.filter(track=['celtics'])\n",
        "    stream.filter(locations=LOCATIONS, languages=['en'], encoding=\"utf-8\")"
      ]
    }
  ],
  "metadata": {
    "colab": {
      "collapsed_sections": [],
      "name": "lab02_geosearch.ipynb",
      "provenance": []
    },
    "kernelspec": {
      "display_name": "Python 3",
      "language": "python",
      "name": "python3"
    },
    "language_info": {
      "codemirror_mode": {
        "name": "ipython",
        "version": 3
      },
      "file_extension": ".py",
      "mimetype": "text/x-python",
      "name": "python",
      "nbconvert_exporter": "python",
      "pygments_lexer": "ipython3",
      "version": "3.7.4"
    }
  },
  "nbformat": 4,
  "nbformat_minor": 0
}
